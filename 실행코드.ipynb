{
  "cells": [
    {
      "cell_type": "code",
      "execution_count": 418,
      "metadata": {
        "id": "c63xqNCEiOKT"
      },
      "outputs": [],
      "source": [
        "import numpy as np # 자연로그와 pi연산을 위한 라이브러리\n",
        "from PIL import Image # 이미지 파일을 가져오기 위한 라이브러리"
      ]
    },
    {
      "cell_type": "markdown",
      "metadata": {
        "id": "obigLf-2w0TQ"
      },
      "source": [
        "## Log"
      ]
    },
    {
      "cell_type": "markdown",
      "metadata": {
        "id": "FvITnkT3RK0A"
      },
      "source": [
        "gaussian kernel 생성 함수"
      ]
    },
    {
      "cell_type": "code",
      "execution_count": 419,
      "metadata": {
        "id": "v276eM-5RKMs"
      },
      "outputs": [],
      "source": [
        "def gaussian_kernel(sigma, size): # size*size 가우시안 커널 생성\n",
        "    kernel = [[0]*size for _ in range(size)]\n",
        "    center = (size - 1) / 2\n",
        "\n",
        "    for x in range(size):\n",
        "        for y in range(size):\n",
        "            exponent = -((x - center)**2 + (y - center)**2) / (2 * sigma**2)\n",
        "            kernel[x][y] = (1 / (2 * np.pi * sigma**2)) * np.exp(exponent)\n",
        "\n",
        "    return kernel"
      ]
    },
    {
      "cell_type": "markdown",
      "metadata": {
        "id": "x3jOBqSMRSyk"
      },
      "source": [
        "laplacian kernel 생성 함수"
      ]
    },
    {
      "cell_type": "code",
      "execution_count": 420,
      "metadata": {
        "id": "SHPgUix_RZgK"
      },
      "outputs": [],
      "source": [
        "def laplacian_kernel():\n",
        "    kernel = [[0, 1, 0], [1, -4, 1], [0, 1, 0]]\n",
        "    return kernel"
      ]
    },
    {
      "cell_type": "markdown",
      "metadata": {
        "id": "mN2eT9zcdq7g"
      },
      "source": [
        "padding"
      ]
    },
    {
      "cell_type": "code",
      "execution_count": 421,
      "metadata": {
        "id": "eFnaSV8udp2V"
      },
      "outputs": [],
      "source": [
        "def zero_padding(matrix, pad_size, m, n):\n",
        "    padded_matrix = [[0]*(n + 2*pad_size) for _ in range(m + 2*pad_size)] # 패딩 크기만큼 행과 열을 각각 양쪽으로 늘림\n",
        "\n",
        "    # 원본 행렬을 새로운 행렬의 중앙에 배치\n",
        "    for i in range(m):\n",
        "        for j in range(n):\n",
        "            padded_matrix[i + pad_size][j + pad_size] = matrix[i][j]\n",
        "\n",
        "    return padded_matrix # 제로 패딩이 적용된 행렬 반환"
      ]
    },
    {
      "cell_type": "markdown",
      "metadata": {
        "id": "syvNQxi9drrj"
      },
      "source": [
        "**이미지에 필터를 적용하는 함수**"
      ]
    },
    {
      "cell_type": "code",
      "execution_count": 422,
      "metadata": {
        "id": "mdXigUtHdsBc"
      },
      "outputs": [],
      "source": [
        "def convolution(image, kernel, m, n, ksize): # size : image size, ksize : kernel size\n",
        "  padded_image = zero_padding(image, ksize,m, n) # 제로 패딩 적용\n",
        "\n",
        "  result = [[0]*n for _ in range(m)]# 컨볼루션 연산 결과를 저장할 배열 초기화\n",
        "\n",
        "  for i in range(m): # 이미지를 순회하면서 컨볼루션 연산 수행\n",
        "    for j in range(n):\n",
        "      temp = 0\n",
        "      for x in range(ksize):\n",
        "        for y in range(ksize):\n",
        "          temp += padded_image[i+x][j+y]*kernel[x][y]\n",
        "      result[i][j] = temp # 컨볼루션 연산 수행 결과를 결과 행렬에 저장\n",
        "\n",
        "  return result # 컨볼루션이 적용된 결과 이미지 반환"
      ]
    },
    {
      "cell_type": "markdown",
      "metadata": {
        "id": "ETnJiZY2d2fu"
      },
      "source": [
        "최종 엣지 결정 함수"
      ]
    },
    {
      "cell_type": "code",
      "execution_count": 423,
      "metadata": {
        "id": "i5dUciiXd5iU"
      },
      "outputs": [],
      "source": [
        "def threshold(image, thres, m, n):\n",
        "  result = [[0]*n for _ in range(m)]\n",
        "  for x in range(m): # 이미지를 순회하면서 컨볼루션 연산 수행\n",
        "    for y in range(n):\n",
        "      # 이미지에서 thres 초과하는 픽셀은 255로, 이하는 0으로 변환\n",
        "      if (image[x][y] > thres) :\n",
        "        result[x][y] = 255\n",
        "      else :\n",
        "        result[x][y] = 0\n",
        "  return result"
      ]
    },
    {
      "cell_type": "markdown",
      "metadata": {
        "id": "M75fD61pRgLI"
      },
      "source": [
        "## 엣지 검출"
      ]
    },
    {
      "cell_type": "code",
      "execution_count": 437,
      "metadata": {
        "colab": {
          "base_uri": "https://localhost:8080/"
        },
        "id": "fo6nFszIRAH4",
        "outputId": "0f4a6203-6205-4026-d4cc-5a91b544bc25"
      },
      "outputs": [
        {
          "name": "stdout",
          "output_type": "stream",
          "text": [
            "0 finished\n",
            "1 finished\n",
            "2 finished\n",
            "3 finished\n",
            "4 finished\n",
            "5 finished\n",
            "6 finished\n",
            "7 finished\n",
            "8 finished\n",
            "9 finished\n"
          ]
        }
      ],
      "source": [
        "for i in range(10):\n",
        "  # 이미지 로드\n",
        "  image_path = f'./{i}.png'\n",
        "  image = np.array(Image.open(image_path).convert('L'))\n",
        "\n",
        "  sigma = 2.0\n",
        "  m, n = image.shape # image의 세로, 가로 크기\n",
        "  gsize = 7 # 가우시안 필터는 gsize*gsize 크기.\n",
        "\n",
        "  # LoG 필터 적용\n",
        "  gaussian = gaussian_kernel(sigma, gsize) # 가우시안 필터 생성\n",
        "  laplacian = laplacian_kernel() # 라플라시안 커널 생성\n",
        "  Log_filter = convolution(gaussian, laplacian, gsize, gsize, 3) # LoG 필터(Laplacian Of Gaussian) 생성\n",
        "  Log_converted = convolution(image, Log_filter, m, n, gsize) #LoG 필터 적용\n",
        "\n",
        "  Log_result = threshold(Log_converted, 0, m, n) # 임계값(0)을 넘은 픽셀에 대해서만 edge로 판정하여 남김\n",
        "\n",
        "  # Log 필터 적용 결과 이미지 저장하기\n",
        "  img = Image.fromarray(np.uint8(Log_result), 'L')\n",
        "  img.save(f'./Log_converted_{i}.png')\n",
        "\n",
        "  print(f'{i} finished')"
      ]
    },
    {
      "cell_type": "markdown",
      "metadata": {
        "id": "HmRvFnwAsMUU"
      },
      "source": [
        "## new idea"
      ]
    },
    {
      "cell_type": "code",
      "execution_count": 433,
      "metadata": {
        "id": "TWhECX5HIfsZ"
      },
      "outputs": [],
      "source": [
        "def my_kernel():\n",
        "    kernel = [[1,1,1,1,1], [1,-1,-1,-1,1], [1,-1,-8,-1,1], [1,-1,-1,-1,1], [1,1,1,1,1]]\n",
        "    return kernel"
      ]
    },
    {
      "cell_type": "code",
      "execution_count": 436,
      "metadata": {
        "colab": {
          "base_uri": "https://localhost:8080/"
        },
        "id": "bq45wxY10jYj",
        "outputId": "d6014fbb-3d1b-477d-cdf4-5b25e2a4df4d"
      },
      "outputs": [
        {
          "name": "stdout",
          "output_type": "stream",
          "text": [
            "0 finished\n",
            "1 finished\n",
            "2 finished\n",
            "3 finished\n",
            "4 finished\n",
            "5 finished\n",
            "6 finished\n",
            "7 finished\n",
            "8 finished\n",
            "9 finished\n"
          ]
        }
      ],
      "source": [
        "for i in range(10):\n",
        "  # 이미지 로드\n",
        "  image_path = f'./{i}.png'\n",
        "  image = np.array(Image.open(image_path).convert('L'))\n",
        "\n",
        "  sigma = 2.0\n",
        "  m, n = image.shape # image의 세로, 가로 크기\n",
        "  gsize = 7 # 가우시안 필터는 gsize*gsize 크기.\n",
        "\n",
        "  # 만든 필터 적용\n",
        "  mykernel = my_kernel() # 커스텀 커널 생성\n",
        "  gaussian = gaussian_kernel(sigma, gsize) # 가우시안 필터 생성\n",
        "  filter = convolution(gaussian, mykernel, gsize, gsize, 5) # gaussian과 mykernel 컨볼루션\n",
        "  my_converted = convolution(image, filter, m, n, gsize) # 필터 적용\n",
        "\n",
        "  result = threshold(my_converted, 5, m, n)\n",
        "\n",
        "  img = Image.fromarray(np.uint8(result), 'L')\n",
        "  img.save(f'./My_converted_{i}.png')\n",
        "\n",
        "  print(f'{i} finished')"
      ]
    },
    {
      "cell_type": "code",
      "execution_count": null,
      "metadata": {
        "id": "Y-Xs_OP0ChpU"
      },
      "outputs": [],
      "source": []
    }
  ],
  "metadata": {
    "colab": {
      "provenance": []
    },
    "kernelspec": {
      "display_name": "Python 3",
      "name": "python3"
    },
    "language_info": {
      "name": "python"
    }
  },
  "nbformat": 4,
  "nbformat_minor": 0
}
