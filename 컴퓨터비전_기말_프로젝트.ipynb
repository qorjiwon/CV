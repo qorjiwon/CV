{
  "nbformat": 4,
  "nbformat_minor": 0,
  "metadata": {
    "colab": {
      "provenance": []
    },
    "kernelspec": {
      "name": "python3",
      "display_name": "Python 3"
    },
    "language_info": {
      "name": "python"
    }
  },
  "cells": [
    {
      "cell_type": "code",
      "execution_count": 258,
      "metadata": {
        "id": "c63xqNCEiOKT"
      },
      "outputs": [],
      "source": [
        "import numpy as np # 다양한 연산을 위한 라이브러리\n",
        "from PIL import Image # 이미지 파일을 가져오기 위한 라이브러리"
      ]
    },
    {
      "cell_type": "markdown",
      "source": [
        "gaussian kernel 생성 함수"
      ],
      "metadata": {
        "id": "FvITnkT3RK0A"
      }
    },
    {
      "cell_type": "code",
      "source": [
        "def gaussian_kernel(sigma, size=9): # size*size 가우시안 커널 생성\n",
        "    kernel = np.fromfunction( lambda x, y: (1/ (2 * np.pi * sigma**2)) * np.exp(- ((x - (size-1)/2)**2 + (y - (size-1)/2)**2) / (2*sigma**2)), (size, size) )\n",
        "    # x: 가우시안\n",
        "    # y: 가우시안 커널 가로 세로 사이즈\n",
        "    return kernel / np.sum(kernel) # 생성된 커널을 전체 원소의 합으로 나누어 정규화"
      ],
      "metadata": {
        "id": "v276eM-5RKMs"
      },
      "execution_count": 259,
      "outputs": []
    },
    {
      "cell_type": "markdown",
      "source": [
        "laplacian kernel 생성 함수"
      ],
      "metadata": {
        "id": "x3jOBqSMRSyk"
      }
    },
    {
      "cell_type": "code",
      "source": [
        "def laplacian_kernel():\n",
        "    kernel = np.array([[0, 1, 0], [1, -4, 1], [0, 1, 0]])\n",
        "    return kernel"
      ],
      "metadata": {
        "id": "SHPgUix_RZgK"
      },
      "execution_count": 260,
      "outputs": []
    },
    {
      "cell_type": "markdown",
      "source": [
        "padding"
      ],
      "metadata": {
        "id": "mN2eT9zcdq7g"
      }
    },
    {
      "cell_type": "code",
      "source": [
        "def zero_padding(matrix, pad_size):\n",
        "    m, n = matrix.shape # 입력 행렬의 크기를 가져온다. m과 n은 각각 행렬의 세로, 가로 크기이다.\n",
        "    padded_matrix = np.zeros((m + 2 * pad_size, n + 2 * pad_size), dtype=matrix.dtype) # 패딩 크기만큼 행과 열을 각각 양쪽으로 늘림\n",
        "    padded_matrix[pad_size:-pad_size, pad_size:-pad_size] = matrix # 원본 행렬을 새로운 행렬의 중앙에 배치\n",
        "    return padded_matrix # 제로 패딩이 적용된 행렬 반환"
      ],
      "metadata": {
        "id": "eFnaSV8udp2V"
      },
      "execution_count": 261,
      "outputs": []
    },
    {
      "cell_type": "markdown",
      "source": [
        "**이미지에 필터를 적용하는 함수**"
      ],
      "metadata": {
        "id": "syvNQxi9drrj"
      }
    },
    {
      "cell_type": "code",
      "source": [
        "def convolution(image, kernel):\n",
        "    km, kn = kernel.shape # 커널의 크기 가져오기. km과 kn은 각각 커널의 가로, 세로 크기\n",
        "    km2, kn2 = km // 2, kn // 2 # 커널 중심 계산\n",
        "    padded_image = zero_padding(image, km2) # 제로 패딩 적용\n",
        "    m, n = padded_image.shape # 패딩된 이미지의 크기 가져오기\n",
        "    result = np.zeros((m-km2*2, n-kn2*2), dtype=np.float32) # 컨볼루션 연산 결과를 저장할 배열 초기화\n",
        "\n",
        "    for i in range(km2, m-km2): # 이미지를 순회하면서 컨볼루션 연산 수행\n",
        "        for j in range(kn2, n-kn2):\n",
        "            temp = padded_image[i-km2:i+km2+1, j-kn2:j+kn2+1] # 커널 크기만큼의 부분 행렬 추출\n",
        "            result[i-km2, j-kn2] = np.sum(temp * kernel) # 컨볼루션 연산 수행 후 결과를 결과 행렬에 저장\n",
        "\n",
        "    return result # 컨볼루션이 적용된 결과 이미지 반환"
      ],
      "metadata": {
        "id": "mdXigUtHdsBc"
      },
      "execution_count": 262,
      "outputs": []
    },
    {
      "cell_type": "markdown",
      "source": [
        "최종 엣지 결정 함수"
      ],
      "metadata": {
        "id": "ETnJiZY2d2fu"
      }
    },
    {
      "cell_type": "code",
      "source": [
        "def threshold(image, thres):\n",
        "    return np.where(image > thres, 255, 0)"
      ],
      "metadata": {
        "id": "i5dUciiXd5iU"
      },
      "execution_count": 263,
      "outputs": []
    },
    {
      "cell_type": "code",
      "source": [
        "# 이미지 로드\n",
        "image_path = 'img.png'\n",
        "image = np.array(Image.open(image_path).convert('L'))\n",
        "\n",
        "sigma = 1.1\n",
        "\n",
        "# 가우시안 스무딩 적용\n",
        "gaussian = gaussian_kernel(sigma)\n",
        "blurred_image = convolution(image, gaussian)\n",
        "img = Image.fromarray(np.uint8(blurred_image), 'L')\n",
        "img.save('./blurred_img.png')\n",
        "\n",
        "# LoG 필터 적용\n",
        "laplacian = laplacian_kernel() # 라플라시안 커널 생성\n",
        "Log_filter = convolution(gaussian, laplacian) * -30 # LoG 필터(Laplacian Of Gaussian) 생성\n",
        "result = convolution(image, Log_filter)\n",
        "\n",
        "img = Image.fromarray(np.uint8(result), 'L')\n",
        "img.save('./mid_img.png')\n",
        "\n",
        "Log_result = threshold(result, 130) # 임계값을 넘은 픽셀에 대해서만 edge로 판정하여 남김\n",
        "\n",
        "# Log 필터 적용 결과 이미지 저장하기\n",
        "img = Image.fromarray(np.uint8(Log_result), 'L')\n",
        "img.save('./Log_converted_img.png')"
      ],
      "metadata": {
        "id": "fo6nFszIRAH4"
      },
      "execution_count": 264,
      "outputs": []
    },
    {
      "cell_type": "markdown",
      "source": [
        "## Canny Edge Detector"
      ],
      "metadata": {
        "id": "0AOngaDL0cDM"
      }
    },
    {
      "cell_type": "code",
      "source": [
        "def threshold2(image, thres_high, thres_low):\n",
        "  m, n = image.shape\n",
        "  result = np.zeros((m, n), dtype=np.float32)\n",
        "  dx = [1,0,-1,0,1,-1]\n",
        "  dy = [1,0,-1,0,1,-1]\n",
        "  for x in range(m): # 이미지를 순회하면서 컨볼루션 연산 수행\n",
        "        for y in range(n):\n",
        "          # 이미지에서 thres_high을 초과하는 부분은 255로, thres_low 미만인 부분은 0으로 변환\n",
        "          if (image[x,y] > thres_high) :\n",
        "            result[x,y] = 255\n",
        "          elif (image[x,y] < thres_low):\n",
        "            result[x,y] = 0\n",
        "          else :\n",
        "            for n in range(1,2):\n",
        "              for k in range(6):\n",
        "                nx = x + dx[k]*n\n",
        "                ny = y + dy[k]*n\n",
        "                if -1 < nx and nx < m and -1 < ny and ny < n and image[nx,ny]>thres_high:\n",
        "                  result[x,y] = 255\n",
        "  return result"
      ],
      "metadata": {
        "id": "vnt27HX91QdM"
      },
      "execution_count": 265,
      "outputs": []
    },
    {
      "cell_type": "code",
      "source": [
        "Canny_result = threshold2(result, 70, 210) # Canny\n",
        "\n",
        "# Log 필터 적용 결과 이미지 저장하기\n",
        "img = Image.fromarray(np.uint8(Canny_result), 'L')\n",
        "img.save('./Canny_converted_img.png')"
      ],
      "metadata": {
        "id": "5a-xAP-6f8_W"
      },
      "execution_count": 266,
      "outputs": []
    },
    {
      "cell_type": "markdown",
      "source": [
        "## Nonmax_suppression"
      ],
      "metadata": {
        "id": "OrMvI7JpKjGx"
      }
    },
    {
      "cell_type": "code",
      "source": [
        "def sobel_filter(image):\n",
        "    kernel_x = np.array([[-1, 0, 1], [-2, 0, 2], [-1, 0, 1]])\n",
        "    kernel_y = np.array([[-1, -2, -1], [0, 0, 0], [1, 2, 1]])\n",
        "\n",
        "    gradient_x = convolve2D(image, kernel_x)\n",
        "    gradient_y = convolve2D(image, kernel_y)\n",
        "\n",
        "    gradient_magnitude = np.sqrt(gradient_x**2 + gradient_y**2)\n",
        "    gradient_direction = np.arctan2(gradient_y, gradient_x) * (180 / np.pi)\n",
        "\n",
        "    return gradient_magnitude, gradient_direction\n",
        "\n",
        "def convolve2D(image, kernel):\n",
        "    m, n = image.shape\n",
        "    km, kn = kernel.shape\n",
        "    km2, kn2 = km // 2, kn // 2\n",
        "\n",
        "    result = np.zeros((m - km + 1, n - kn + 1))\n",
        "\n",
        "    for i in range(m - km + 1):\n",
        "        for j in range(n - kn + 1):\n",
        "            result[i, j] = np.sum(image[i:i+km, j:j+kn] * kernel)\n",
        "\n",
        "    return result\n",
        "\n",
        "def nonmax_suppression(gradient_magnitude, gradient_direction):\n",
        "    m, n = gradient_magnitude.shape\n",
        "    result = np.zeros((m, n), dtype=np.uint8)\n",
        "\n",
        "    for i in range(1, m-1):\n",
        "        for j in range(1, n-1):\n",
        "            angle = gradient_direction[i, j]\n",
        "\n",
        "            # 주변 픽셀 좌표 계산\n",
        "            if (0 <= angle < 22.5) or (157.5 <= angle <= 180):\n",
        "                neighbors = [gradient_magnitude[i, j-1], gradient_magnitude[i, j+1]]\n",
        "            elif (22.5 <= angle < 67.5):\n",
        "                neighbors = [gradient_magnitude[i-1, j+1], gradient_magnitude[i+1, j-1]]\n",
        "            elif (67.5 <= angle < 112.5):\n",
        "                neighbors = [gradient_magnitude[i-1, j], gradient_magnitude[i+1, j]]\n",
        "            else:\n",
        "                neighbors = [gradient_magnitude[i-1, j-1], gradient_magnitude[i+1, j+1]]\n",
        "\n",
        "            # 현재 픽셀이 주변 픽셀보다 강한 엣지인지 확인\n",
        "            if gradient_magnitude[i, j] >= max(neighbors):\n",
        "                result[i, j] = gradient_magnitude[i, j]\n",
        "\n",
        "    return result\n",
        "\n",
        "gaussian = gaussian_kernel(1.0)\n",
        "blurred_image = convolution(image, gaussian)\n",
        "\n",
        "# Sobel 필터 적용\n",
        "gradient_magnitude, gradient_direction = sobel_filter(blurred_image)\n",
        "\n",
        "# Non-maximum suppression 수행\n",
        "result = nonmax_suppression(gradient_magnitude, gradient_direction)\n",
        "\n",
        "# 결과 출력\n",
        "img = Image.fromarray(np.uint8(result), 'L')\n",
        "img.save('./thin_converted_img.png')"
      ],
      "metadata": {
        "id": "Lgretjub7aSD"
      },
      "execution_count": 267,
      "outputs": []
    },
    {
      "cell_type": "code",
      "source": [],
      "metadata": {
        "id": "TWhECX5HIfsZ"
      },
      "execution_count": 267,
      "outputs": []
    }
  ]
}